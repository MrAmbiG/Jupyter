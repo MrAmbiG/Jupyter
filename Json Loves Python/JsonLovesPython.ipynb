{
 "cells": [
  {
   "cell_type": "markdown",
   "metadata": {},
   "source": [
    "# Json Loves Python"
   ]
  },
  {
   "cell_type": "markdown",
   "metadata": {},
   "source": [
    "I will here try to learn and make some notes of my understanding of **Json**[JavaScript Object Notation] and how you can handle it through **Python**, what are the packages, resources and sources for it. Please feel free to correct or update me here so that others too can benefit from it."
   ]
  },
  {
   "cell_type": "markdown",
   "metadata": {},
   "source": [
    "Person A wants to send some information or message to person B. Person A writes a letter and puts this in an envelope and sends it to person B. This is how the communication happened before the era of phones and internet. Now in this modern age think of **envelope = Json** . It is a type of envelope. It is a type of data carrier or courier between senders and receiver. The official term is **data format**. Json is another type of data format to send and receive data. Other types are xml (slowly being replaced by json), yaml (slowly taking over json)."
   ]
  },
  {
   "cell_type": "code",
   "execution_count": 1,
   "metadata": {},
   "outputs": [],
   "source": [
    "# d for data\n",
    "d1=1 # data type - integer\n",
    "d2=2.3 # data type - float\n",
    "d3='batman' # data type - string\n",
    "d4=(1,2,3,4) # tuple\n",
    "d5=[1,2,3,4] # list\n",
    "d6=[1,2,[3,4],5] # nested list\n",
    "d7={\n",
    "    'integer':d1,\n",
    "    'float':d2,\n",
    "    'string':d3,\n",
    "    'tuple':d4,\n",
    "    'list':d5,\n",
    "    'nested list':d6\n",
    "   } # dictionary"
   ]
  },
  {
   "cell_type": "markdown",
   "metadata": {},
   "source": [
    "Let us print out the types of data that they are"
   ]
  },
  {
   "cell_type": "code",
   "execution_count": 2,
   "metadata": {},
   "outputs": [
    {
     "data": {
      "text/plain": [
       "int"
      ]
     },
     "execution_count": 2,
     "metadata": {},
     "output_type": "execute_result"
    }
   ],
   "source": [
    "type(d1)"
   ]
  },
  {
   "cell_type": "code",
   "execution_count": 3,
   "metadata": {},
   "outputs": [
    {
     "data": {
      "text/plain": [
       "float"
      ]
     },
     "execution_count": 3,
     "metadata": {},
     "output_type": "execute_result"
    }
   ],
   "source": [
    "type(d2)"
   ]
  },
  {
   "cell_type": "code",
   "execution_count": 4,
   "metadata": {},
   "outputs": [
    {
     "data": {
      "text/plain": [
       "str"
      ]
     },
     "execution_count": 4,
     "metadata": {},
     "output_type": "execute_result"
    }
   ],
   "source": [
    "type(d3)"
   ]
  },
  {
   "cell_type": "code",
   "execution_count": 5,
   "metadata": {},
   "outputs": [
    {
     "data": {
      "text/plain": [
       "tuple"
      ]
     },
     "execution_count": 5,
     "metadata": {},
     "output_type": "execute_result"
    }
   ],
   "source": [
    "type(d4)"
   ]
  },
  {
   "cell_type": "code",
   "execution_count": 6,
   "metadata": {},
   "outputs": [
    {
     "data": {
      "text/plain": [
       "list"
      ]
     },
     "execution_count": 6,
     "metadata": {},
     "output_type": "execute_result"
    }
   ],
   "source": [
    "type(d5)"
   ]
  },
  {
   "cell_type": "code",
   "execution_count": 7,
   "metadata": {},
   "outputs": [
    {
     "data": {
      "text/plain": [
       "list"
      ]
     },
     "execution_count": 7,
     "metadata": {},
     "output_type": "execute_result"
    }
   ],
   "source": [
    "type(d6)"
   ]
  },
  {
   "cell_type": "code",
   "execution_count": 8,
   "metadata": {},
   "outputs": [
    {
     "data": {
      "text/plain": [
       "dict"
      ]
     },
     "execution_count": 8,
     "metadata": {},
     "output_type": "execute_result"
    }
   ],
   "source": [
    "type(d7)"
   ]
  },
  {
   "cell_type": "markdown",
   "metadata": {},
   "source": [
    "Let us now print their content"
   ]
  },
  {
   "cell_type": "code",
   "execution_count": 9,
   "metadata": {},
   "outputs": [
    {
     "data": {
      "text/plain": [
       "1"
      ]
     },
     "execution_count": 9,
     "metadata": {},
     "output_type": "execute_result"
    }
   ],
   "source": [
    "d1"
   ]
  },
  {
   "cell_type": "code",
   "execution_count": 10,
   "metadata": {},
   "outputs": [
    {
     "data": {
      "text/plain": [
       "2.3"
      ]
     },
     "execution_count": 10,
     "metadata": {},
     "output_type": "execute_result"
    }
   ],
   "source": [
    "d2"
   ]
  },
  {
   "cell_type": "code",
   "execution_count": 11,
   "metadata": {},
   "outputs": [
    {
     "data": {
      "text/plain": [
       "'batman'"
      ]
     },
     "execution_count": 11,
     "metadata": {},
     "output_type": "execute_result"
    }
   ],
   "source": [
    "d3"
   ]
  },
  {
   "cell_type": "code",
   "execution_count": 12,
   "metadata": {},
   "outputs": [
    {
     "data": {
      "text/plain": [
       "(1, 2, 3, 4)"
      ]
     },
     "execution_count": 12,
     "metadata": {},
     "output_type": "execute_result"
    }
   ],
   "source": [
    "d4"
   ]
  },
  {
   "cell_type": "code",
   "execution_count": 13,
   "metadata": {},
   "outputs": [
    {
     "data": {
      "text/plain": [
       "[1, 2, 3, 4]"
      ]
     },
     "execution_count": 13,
     "metadata": {},
     "output_type": "execute_result"
    }
   ],
   "source": [
    "d5"
   ]
  },
  {
   "cell_type": "code",
   "execution_count": 14,
   "metadata": {},
   "outputs": [
    {
     "data": {
      "text/plain": [
       "[1, 2, [3, 4], 5]"
      ]
     },
     "execution_count": 14,
     "metadata": {},
     "output_type": "execute_result"
    }
   ],
   "source": [
    "d6"
   ]
  },
  {
   "cell_type": "code",
   "execution_count": 15,
   "metadata": {},
   "outputs": [
    {
     "data": {
      "text/plain": [
       "{'integer': 1,\n",
       " 'float': 2.3,\n",
       " 'string': 'batman',\n",
       " 'tuple': (1, 2, 3, 4),\n",
       " 'list': [1, 2, 3, 4],\n",
       " 'nested list': [1, 2, [3, 4], 5]}"
      ]
     },
     "execution_count": 15,
     "metadata": {},
     "output_type": "execute_result"
    }
   ],
   "source": [
    "d7"
   ]
  },
  {
   "cell_type": "markdown",
   "metadata": {},
   "source": [
    "Time to play with Json package. You can install it via pip 'pip install json'"
   ]
  },
  {
   "cell_type": "code",
   "execution_count": 16,
   "metadata": {},
   "outputs": [],
   "source": [
    "import json # importing json to use it with python"
   ]
  },
  {
   "cell_type": "code",
   "execution_count": 17,
   "metadata": {},
   "outputs": [
    {
     "data": {
      "text/plain": [
       "'{\"integer\": 1, \"float\": 2.3, \"string\": \"batman\", \"tuple\": [1, 2, 3, 4], \"list\": [1, 2, 3, 4], \"nested list\": [1, 2, [3, 4], 5]}'"
      ]
     },
     "execution_count": 17,
     "metadata": {},
     "output_type": "execute_result"
    }
   ],
   "source": [
    "json.dumps(d7) "
   ]
  },
  {
   "cell_type": "markdown",
   "metadata": {},
   "source": [
    "Python's dictionary is the same as Json !!!"
   ]
  },
  {
   "cell_type": "code",
   "execution_count": 18,
   "metadata": {},
   "outputs": [
    {
     "data": {
      "text/plain": [
       "'{\\n  \"integer\": 1,\\n  \"float\": 2.3,\\n  \"string\": \"batman\",\\n  \"tuple\": [\\n    1,\\n    2,\\n    3,\\n    4\\n  ],\\n  \"list\": [\\n    1,\\n    2,\\n    3,\\n    4\\n  ],\\n  \"nested list\": [\\n    1,\\n    2,\\n    [\\n      3,\\n      4\\n    ],\\n    5\\n  ]\\n}'"
      ]
     },
     "execution_count": 18,
     "metadata": {},
     "output_type": "execute_result"
    }
   ],
   "source": [
    "json.dumps(d7, indent=2) "
   ]
  },
  {
   "cell_type": "code",
   "execution_count": 19,
   "metadata": {},
   "outputs": [
    {
     "data": {
      "text/plain": [
       "'{\\n  \"integer\": 1,\\n  \"float\": 2.3,\\n  \"string\": \"batman\",\\n  \"tuple\": [\\n    1,\\n    2,\\n    3,\\n    4\\n  ],\\n  \"list\": [\\n    1,\\n    2,\\n    3,\\n    4\\n  ],\\n  \"nested list\": [\\n    1,\\n    2,\\n    [\\n      3,\\n      4\\n    ],\\n    5\\n  ]\\n}'"
      ]
     },
     "execution_count": 19,
     "metadata": {},
     "output_type": "execute_result"
    }
   ],
   "source": [
    "json.dumps(d7, indent=2) # it looks ugly because I am using nested variables inside ipython notebook. In console it comes prettier"
   ]
  },
  {
   "cell_type": "markdown",
   "metadata": {},
   "source": [
    "https://repl.it/@gajuambi/JsonLovesPython # repl link to see the pretty print version of it"
   ]
  },
  {
   "cell_type": "code",
   "execution_count": 20,
   "metadata": {},
   "outputs": [
    {
     "data": {
      "text/plain": [
       "list"
      ]
     },
     "execution_count": 20,
     "metadata": {},
     "output_type": "execute_result"
    }
   ],
   "source": [
    "type(d5)"
   ]
  },
  {
   "cell_type": "code",
   "execution_count": 37,
   "metadata": {},
   "outputs": [],
   "source": [
    "arrayJson = '[ \"bat\", \"cat\", \"rat\" ]' # Python's list == Json's array ==Javascript's Array"
   ]
  },
  {
   "cell_type": "markdown",
   "metadata": {},
   "source": [
    "Json Types Below (no need to memorize or remember. Just have a glance or forget that you ever saw this)"
   ]
  },
  {
   "cell_type": "markdown",
   "metadata": {},
   "source": [
    "|     Type           |Detail|                    \n",
    "|----------------|-------------------------------|\n",
    "|Number|`Used to represent Integers (1,2,3,4), Fractions(.1,.2..), Exponents (e, e+, e-`            |\n",
    "|String|`Represents a string. ex: \"I am string\"`            |\n",
    "|Boolean|`representation of either true or false`|\n",
    "|Array|`Equivalent of a python's list`|\n",
    "|Value|`It can be a string, boolean, integer or null`|\n",
    "|Object|`Think of it as Python's dictionary`|\n",
    "|Whitespace|`Used with tokens(Don't worry about it, It is not part of this topic`|\n",
    "|null|`Python's None`|"
   ]
  },
  {
   "cell_type": "code",
   "execution_count": 53,
   "metadata": {},
   "outputs": [],
   "source": [
    "objectJson = '{\"batman\":\"bruce wayne\",\"superman\":\"clark kent\",\"others\":[\"wonderwoman\", \"flash\", 3]}' # python's dictionary==Json's objecttype. objectJson can contain arrayJson"
   ]
  },
  {
   "cell_type": "markdown",
   "metadata": {},
   "source": [
    "Here objectJson is an objectJson which has an ArrayJson called others "
   ]
  },
  {
   "cell_type": "code",
   "execution_count": 54,
   "metadata": {},
   "outputs": [
    {
     "data": {
      "text/plain": [
       "['bat', 'cat', 'rat']"
      ]
     },
     "execution_count": 54,
     "metadata": {},
     "output_type": "execute_result"
    }
   ],
   "source": [
    "json.loads(arrayJson)"
   ]
  },
  {
   "cell_type": "code",
   "execution_count": 57,
   "metadata": {},
   "outputs": [
    {
     "data": {
      "text/plain": [
       "{'batman': 'bruce wayne',\n",
       " 'superman': 'clark kent',\n",
       " 'others': ['wonderwoman', 'flash', 3]}"
      ]
     },
     "execution_count": 57,
     "metadata": {},
     "output_type": "execute_result"
    }
   ],
   "source": [
    "json.loads(objectJson)"
   ]
  },
  {
   "cell_type": "markdown",
   "metadata": {},
   "source": [
    "So using the json.dumps() you can convert python's stuff into Json's stuff. The details are below\n",
    "\n",
    "|PYTHON|JSON\n",
    "|-------|-------------------------|\n",
    "|dict|object\n",
    "|list, tuple|array\n",
    "|str|string\n",
    "|int, float, int- & float-derived Enums|number\n",
    "|True|true\n",
    "|False|false\n",
    "|None|null"
   ]
  },
  {
   "cell_type": "markdown",
   "metadata": {},
   "source": [
    "Now similary you can use json.loads() to convert json stuff into python stuff"
   ]
  },
  {
   "cell_type": "markdown",
   "metadata": {},
   "source": [
    "\n",
    "|JSON|PYTHON\n",
    "|---------|---------|\n",
    "|object|dict\n",
    "|array|list\n",
    "|string|str\n",
    "|number (int)|int\n",
    "|number (real)|float\n",
    "|true|True\n",
    "|false|False"
   ]
  },
  {
   "cell_type": "code",
   "execution_count": null,
   "metadata": {},
   "outputs": [],
   "source": []
  }
 ],
 "metadata": {
  "kernelspec": {
   "display_name": "Python 3",
   "language": "python",
   "name": "python3"
  },
  "language_info": {
   "codemirror_mode": {
    "name": "ipython",
    "version": 3
   },
   "file_extension": ".py",
   "mimetype": "text/x-python",
   "name": "python",
   "nbconvert_exporter": "python",
   "pygments_lexer": "ipython3",
   "version": "3.6.5"
  }
 },
 "nbformat": 4,
 "nbformat_minor": 2
}
