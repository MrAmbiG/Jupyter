{
 "cells": [
  {
   "cell_type": "markdown",
   "metadata": {},
   "source": [
    "# Json Loves Python"
   ]
  },
  {
   "cell_type": "markdown",
   "metadata": {},
   "source": [
    "I will here try to learn and make some notes of my understanding of **Json**[JavaScript Object Notation] and how you can handle it through **Python**, what are the packages, resources and sources for it. Please feel free to correct or update me here so that others too can benefit from it."
   ]
  },
  {
   "cell_type": "markdown",
   "metadata": {},
   "source": [
    "Person A wants to send some information or message to person B. Person A writes a letter and puts this in an envelope and sends it to person B. This is how the communication happened before the era of phones and internet. Now in this modern age think of **envelope = Json** . It is a type of envelope. It is a type of data carrier or courier between senders and receiver. The official term is **data format**. Json is another type of data format to send and receive data. Other types are xml (slowly being replaced by json), yaml (slowly taking over json)."
   ]
  },
  {
   "cell_type": "code",
   "execution_count": 1,
   "metadata": {},
   "outputs": [],
   "source": [
    "# d for data\n",
    "d1=1 # data type - integer\n",
    "d2=2.3 # data type - float\n",
    "d3='batman' # data type - string\n",
    "d4=(1,2,3,4) # tuple\n",
    "d5=[1,2,3,4] # list\n",
    "d6=[1,2,[3,4],5] # nested list\n",
    "d7={\n",
    "    'integer':d1,\n",
    "    'float':d2,\n",
    "    'string':d3,\n",
    "    'tuple':d4,\n",
    "    'list':d5,\n",
    "    'nested list':d6\n",
    "   } # dictionary"
   ]
  },
  {
   "cell_type": "markdown",
   "metadata": {},
   "source": [
    "Let us print out the types of data that they are"
   ]
  },
  {
   "cell_type": "code",
   "execution_count": 2,
   "metadata": {},
   "outputs": [
    {
     "data": {
      "text/plain": [
       "int"
      ]
     },
     "execution_count": 2,
     "metadata": {},
     "output_type": "execute_result"
    }
   ],
   "source": [
    "type(d1)"
   ]
  },
  {
   "cell_type": "code",
   "execution_count": 3,
   "metadata": {},
   "outputs": [
    {
     "data": {
      "text/plain": [
       "float"
      ]
     },
     "execution_count": 3,
     "metadata": {},
     "output_type": "execute_result"
    }
   ],
   "source": [
    "type(d2)"
   ]
  },
  {
   "cell_type": "code",
   "execution_count": 4,
   "metadata": {},
   "outputs": [
    {
     "data": {
      "text/plain": [
       "str"
      ]
     },
     "execution_count": 4,
     "metadata": {},
     "output_type": "execute_result"
    }
   ],
   "source": [
    "type(d3)"
   ]
  },
  {
   "cell_type": "code",
   "execution_count": 5,
   "metadata": {},
   "outputs": [
    {
     "data": {
      "text/plain": [
       "tuple"
      ]
     },
     "execution_count": 5,
     "metadata": {},
     "output_type": "execute_result"
    }
   ],
   "source": [
    "type(d4)"
   ]
  },
  {
   "cell_type": "code",
   "execution_count": 6,
   "metadata": {},
   "outputs": [
    {
     "data": {
      "text/plain": [
       "list"
      ]
     },
     "execution_count": 6,
     "metadata": {},
     "output_type": "execute_result"
    }
   ],
   "source": [
    "type(d5)"
   ]
  },
  {
   "cell_type": "code",
   "execution_count": 7,
   "metadata": {},
   "outputs": [
    {
     "data": {
      "text/plain": [
       "list"
      ]
     },
     "execution_count": 7,
     "metadata": {},
     "output_type": "execute_result"
    }
   ],
   "source": [
    "type(d6)"
   ]
  },
  {
   "cell_type": "code",
   "execution_count": 8,
   "metadata": {},
   "outputs": [
    {
     "data": {
      "text/plain": [
       "dict"
      ]
     },
     "execution_count": 8,
     "metadata": {},
     "output_type": "execute_result"
    }
   ],
   "source": [
    "type(d7)"
   ]
  },
  {
   "cell_type": "markdown",
   "metadata": {},
   "source": [
    "Let us now print their content"
   ]
  },
  {
   "cell_type": "code",
   "execution_count": 9,
   "metadata": {},
   "outputs": [
    {
     "data": {
      "text/plain": [
       "1"
      ]
     },
     "execution_count": 9,
     "metadata": {},
     "output_type": "execute_result"
    }
   ],
   "source": [
    "d1"
   ]
  },
  {
   "cell_type": "code",
   "execution_count": 10,
   "metadata": {},
   "outputs": [
    {
     "data": {
      "text/plain": [
       "2.3"
      ]
     },
     "execution_count": 10,
     "metadata": {},
     "output_type": "execute_result"
    }
   ],
   "source": [
    "d2"
   ]
  },
  {
   "cell_type": "code",
   "execution_count": 11,
   "metadata": {},
   "outputs": [
    {
     "data": {
      "text/plain": [
       "'batman'"
      ]
     },
     "execution_count": 11,
     "metadata": {},
     "output_type": "execute_result"
    }
   ],
   "source": [
    "d3"
   ]
  },
  {
   "cell_type": "code",
   "execution_count": 12,
   "metadata": {},
   "outputs": [
    {
     "data": {
      "text/plain": [
       "(1, 2, 3, 4)"
      ]
     },
     "execution_count": 12,
     "metadata": {},
     "output_type": "execute_result"
    }
   ],
   "source": [
    "d4"
   ]
  },
  {
   "cell_type": "code",
   "execution_count": 13,
   "metadata": {},
   "outputs": [
    {
     "data": {
      "text/plain": [
       "[1, 2, 3, 4]"
      ]
     },
     "execution_count": 13,
     "metadata": {},
     "output_type": "execute_result"
    }
   ],
   "source": [
    "d5"
   ]
  },
  {
   "cell_type": "code",
   "execution_count": 14,
   "metadata": {},
   "outputs": [
    {
     "data": {
      "text/plain": [
       "[1, 2, [3, 4], 5]"
      ]
     },
     "execution_count": 14,
     "metadata": {},
     "output_type": "execute_result"
    }
   ],
   "source": [
    "d6"
   ]
  },
  {
   "cell_type": "code",
   "execution_count": 15,
   "metadata": {},
   "outputs": [
    {
     "data": {
      "text/plain": [
       "{'integer': 1,\n",
       " 'float': 2.3,\n",
       " 'string': 'batman',\n",
       " 'tuple': (1, 2, 3, 4),\n",
       " 'list': [1, 2, 3, 4],\n",
       " 'nested list': [1, 2, [3, 4], 5]}"
      ]
     },
     "execution_count": 15,
     "metadata": {},
     "output_type": "execute_result"
    }
   ],
   "source": [
    "d7"
   ]
  },
  {
   "cell_type": "markdown",
   "metadata": {},
   "source": [
    "Time to play with Json package. You can install it via pip 'pip install json'"
   ]
  },
  {
   "cell_type": "code",
   "execution_count": 16,
   "metadata": {},
   "outputs": [],
   "source": [
    "import json # importing json to use it with python"
   ]
  },
  {
   "cell_type": "code",
   "execution_count": 17,
   "metadata": {},
   "outputs": [
    {
     "data": {
      "text/plain": [
       "'{\"integer\": 1, \"float\": 2.3, \"string\": \"batman\", \"tuple\": [1, 2, 3, 4], \"list\": [1, 2, 3, 4], \"nested list\": [1, 2, [3, 4], 5]}'"
      ]
     },
     "execution_count": 17,
     "metadata": {},
     "output_type": "execute_result"
    }
   ],
   "source": [
    "json.dumps(d7) "
   ]
  },
  {
   "cell_type": "markdown",
   "metadata": {},
   "source": [
    "Python's dictionary is the same as Json !!!"
   ]
  },
  {
   "cell_type": "code",
   "execution_count": 18,
   "metadata": {},
   "outputs": [
    {
     "data": {
      "text/plain": [
       "'{\\n  \"integer\": 1,\\n  \"float\": 2.3,\\n  \"string\": \"batman\",\\n  \"tuple\": [\\n    1,\\n    2,\\n    3,\\n    4\\n  ],\\n  \"list\": [\\n    1,\\n    2,\\n    3,\\n    4\\n  ],\\n  \"nested list\": [\\n    1,\\n    2,\\n    [\\n      3,\\n      4\\n    ],\\n    5\\n  ]\\n}'"
      ]
     },
     "execution_count": 18,
     "metadata": {},
     "output_type": "execute_result"
    }
   ],
   "source": [
    "json.dumps(d7, indent=2) "
   ]
  },
  {
   "cell_type": "code",
   "execution_count": 19,
   "metadata": {},
   "outputs": [
    {
     "data": {
      "text/plain": [
       "'{\\n  \"integer\": 1,\\n  \"float\": 2.3,\\n  \"string\": \"batman\",\\n  \"tuple\": [\\n    1,\\n    2,\\n    3,\\n    4\\n  ],\\n  \"list\": [\\n    1,\\n    2,\\n    3,\\n    4\\n  ],\\n  \"nested list\": [\\n    1,\\n    2,\\n    [\\n      3,\\n      4\\n    ],\\n    5\\n  ]\\n}'"
      ]
     },
     "execution_count": 19,
     "metadata": {},
     "output_type": "execute_result"
    }
   ],
   "source": [
    "json.dumps(d7, indent=2) # it looks ugly because I am using nested variables inside ipython notebook. In console it comes prettier"
   ]
  },
  {
   "cell_type": "markdown",
   "metadata": {},
   "source": [
    "https://repl.it/@gajuambi/JsonLovesPython # repl link to see the pretty print version of it"
   ]
  },
  {
   "cell_type": "code",
   "execution_count": 20,
   "metadata": {},
   "outputs": [
    {
     "data": {
      "text/plain": [
       "list"
      ]
     },
     "execution_count": 20,
     "metadata": {},
     "output_type": "execute_result"
    }
   ],
   "source": [
    "type(d5)"
   ]
  },
  {
   "cell_type": "code",
   "execution_count": 37,
   "metadata": {},
   "outputs": [],
   "source": [
    "arrayJson = '[ \"bat\", \"cat\", \"rat\" ]' # Python's list == Json's array ==Javascript's Array"
   ]
  },
  {
   "cell_type": "markdown",
   "metadata": {},
   "source": [
    "Json Types Below (no need to memorize or remember. Just have a glance or forget that you ever saw this)"
   ]
  },
  {
   "cell_type": "markdown",
   "metadata": {},
   "source": [
    "|     Type           |Detail|                    \n",
    "|----------------|-------------------------------|\n",
    "|Number|`Used to represent Integers (1,2,3,4), Fractions(.1,.2..), Exponents (e, e+, e-`            |\n",
    "|String|`Represents a string. ex: \"I am string\"`            |\n",
    "|Boolean|`representation of either true or false`|\n",
    "|Array|`Equivalent of a python's list`|\n",
    "|Value|`It can be a string, boolean, integer or null`|\n",
    "|Object|`Think of it as Python's dictionary`|\n",
    "|Whitespace|`Used with tokens(Don't worry about it, It is not part of this topic`|\n",
    "|null|`Python's None`|"
   ]
  },
  {
   "cell_type": "code",
   "execution_count": 53,
   "metadata": {},
   "outputs": [],
   "source": [
    "objectJson = '{\"batman\":\"bruce wayne\",\"superman\":\"clark kent\",\"others\":[\"wonderwoman\", \"flash\", 3]}' # python's dictionary==Json's objecttype. objectJson can contain arrayJson"
   ]
  },
  {
   "cell_type": "markdown",
   "metadata": {},
   "source": [
    "Here objectJson is an objectJson which has an ArrayJson called others "
   ]
  },
  {
   "cell_type": "code",
   "execution_count": 54,
   "metadata": {},
   "outputs": [
    {
     "data": {
      "text/plain": [
       "['bat', 'cat', 'rat']"
      ]
     },
     "execution_count": 54,
     "metadata": {},
     "output_type": "execute_result"
    }
   ],
   "source": [
    "json.loads(arrayJson)"
   ]
  },
  {
   "cell_type": "code",
   "execution_count": 57,
   "metadata": {},
   "outputs": [
    {
     "data": {
      "text/plain": [
       "{'batman': 'bruce wayne',\n",
       " 'superman': 'clark kent',\n",
       " 'others': ['wonderwoman', 'flash', 3]}"
      ]
     },
     "execution_count": 57,
     "metadata": {},
     "output_type": "execute_result"
    }
   ],
   "source": [
    "json.loads(objectJson)"
   ]
  },
  {
   "cell_type": "markdown",
   "metadata": {},
   "source": [
    "So using the json.dumps() you can convert (serialize) python's stuff into Json's stuff. The details are below\n",
    "\n",
    "|PYTHON|JSON\n",
    "|-------|-------------------------|\n",
    "|dict|object\n",
    "|list, tuple|array\n",
    "|str|string\n",
    "|int, float, int- & float-derived Enums|number\n",
    "|True|true\n",
    "|False|false\n",
    "|None|null"
   ]
  },
  {
   "cell_type": "markdown",
   "metadata": {},
   "source": [
    "Now similary you can use json.loads() to convert (deserialize) json stuff into python stuff"
   ]
  },
  {
   "cell_type": "markdown",
   "metadata": {},
   "source": [
    "\n",
    "|JSON|PYTHON\n",
    "|---------|---------|\n",
    "|object|dict\n",
    "|array|list\n",
    "|string|str\n",
    "|number (int)|int\n",
    "|number (real)|float\n",
    "|true|True\n",
    "|false|False"
   ]
  },
  {
   "cell_type": "code",
   "execution_count": 3,
   "metadata": {},
   "outputs": [],
   "source": [
    "import requests, json"
   ]
  },
  {
   "cell_type": "code",
   "execution_count": 13,
   "metadata": {},
   "outputs": [],
   "source": [
    "url=\"https://jsonplaceholder.typicode.com/todos/\"\n",
    "response = requests.get(url)\n",
    "data = json.loads(response.text)"
   ]
  },
  {
   "cell_type": "code",
   "execution_count": 14,
   "metadata": {},
   "outputs": [
    {
     "data": {
      "text/plain": [
       "[{'userId': 1, 'id': 1, 'title': 'delectus aut autem', 'completed': False},\n",
       " {'userId': 1,\n",
       "  'id': 2,\n",
       "  'title': 'quis ut nam facilis et officia qui',\n",
       "  'completed': False},\n",
       " {'userId': 1, 'id': 3, 'title': 'fugiat veniam minus', 'completed': False},\n",
       " {'userId': 1, 'id': 4, 'title': 'et porro tempora', 'completed': True},\n",
       " {'userId': 1,\n",
       "  'id': 5,\n",
       "  'title': 'laboriosam mollitia et enim quasi adipisci quia provident illum',\n",
       "  'completed': False},\n",
       " {'userId': 1,\n",
       "  'id': 6,\n",
       "  'title': 'qui ullam ratione quibusdam voluptatem quia omnis',\n",
       "  'completed': False},\n",
       " {'userId': 1,\n",
       "  'id': 7,\n",
       "  'title': 'illo expedita consequatur quia in',\n",
       "  'completed': False},\n",
       " {'userId': 1,\n",
       "  'id': 8,\n",
       "  'title': 'quo adipisci enim quam ut ab',\n",
       "  'completed': True},\n",
       " {'userId': 1,\n",
       "  'id': 9,\n",
       "  'title': 'molestiae perspiciatis ipsa',\n",
       "  'completed': False},\n",
       " {'userId': 1,\n",
       "  'id': 10,\n",
       "  'title': 'illo est ratione doloremque quia maiores aut',\n",
       "  'completed': True},\n",
       " {'userId': 1,\n",
       "  'id': 11,\n",
       "  'title': 'vero rerum temporibus dolor',\n",
       "  'completed': True},\n",
       " {'userId': 1,\n",
       "  'id': 12,\n",
       "  'title': 'ipsa repellendus fugit nisi',\n",
       "  'completed': True},\n",
       " {'userId': 1, 'id': 13, 'title': 'et doloremque nulla', 'completed': False},\n",
       " {'userId': 1,\n",
       "  'id': 14,\n",
       "  'title': 'repellendus sunt dolores architecto voluptatum',\n",
       "  'completed': True},\n",
       " {'userId': 1,\n",
       "  'id': 15,\n",
       "  'title': 'ab voluptatum amet voluptas',\n",
       "  'completed': True},\n",
       " {'userId': 1,\n",
       "  'id': 16,\n",
       "  'title': 'accusamus eos facilis sint et aut voluptatem',\n",
       "  'completed': True},\n",
       " {'userId': 1,\n",
       "  'id': 17,\n",
       "  'title': 'quo laboriosam deleniti aut qui',\n",
       "  'completed': True},\n",
       " {'userId': 1,\n",
       "  'id': 18,\n",
       "  'title': 'dolorum est consequatur ea mollitia in culpa',\n",
       "  'completed': False},\n",
       " {'userId': 1,\n",
       "  'id': 19,\n",
       "  'title': 'molestiae ipsa aut voluptatibus pariatur dolor nihil',\n",
       "  'completed': True},\n",
       " {'userId': 1,\n",
       "  'id': 20,\n",
       "  'title': 'ullam nobis libero sapiente ad optio sint',\n",
       "  'completed': True},\n",
       " {'userId': 2,\n",
       "  'id': 21,\n",
       "  'title': 'suscipit repellat esse quibusdam voluptatem incidunt',\n",
       "  'completed': False},\n",
       " {'userId': 2,\n",
       "  'id': 22,\n",
       "  'title': 'distinctio vitae autem nihil ut molestias quo',\n",
       "  'completed': True},\n",
       " {'userId': 2,\n",
       "  'id': 23,\n",
       "  'title': 'et itaque necessitatibus maxime molestiae qui quas velit',\n",
       "  'completed': False},\n",
       " {'userId': 2,\n",
       "  'id': 24,\n",
       "  'title': 'adipisci non ad dicta qui amet quaerat doloribus ea',\n",
       "  'completed': False},\n",
       " {'userId': 2,\n",
       "  'id': 25,\n",
       "  'title': 'voluptas quo tenetur perspiciatis explicabo natus',\n",
       "  'completed': True},\n",
       " {'userId': 2, 'id': 26, 'title': 'aliquam aut quasi', 'completed': True},\n",
       " {'userId': 2,\n",
       "  'id': 27,\n",
       "  'title': 'veritatis pariatur delectus',\n",
       "  'completed': True},\n",
       " {'userId': 2,\n",
       "  'id': 28,\n",
       "  'title': 'nesciunt totam sit blanditiis sit',\n",
       "  'completed': False},\n",
       " {'userId': 2, 'id': 29, 'title': 'laborum aut in quam', 'completed': False},\n",
       " {'userId': 2,\n",
       "  'id': 30,\n",
       "  'title': 'nemo perspiciatis repellat ut dolor libero commodi blanditiis omnis',\n",
       "  'completed': True},\n",
       " {'userId': 2,\n",
       "  'id': 31,\n",
       "  'title': 'repudiandae totam in est sint facere fuga',\n",
       "  'completed': False},\n",
       " {'userId': 2,\n",
       "  'id': 32,\n",
       "  'title': 'earum doloribus ea doloremque quis',\n",
       "  'completed': False},\n",
       " {'userId': 2, 'id': 33, 'title': 'sint sit aut vero', 'completed': False},\n",
       " {'userId': 2,\n",
       "  'id': 34,\n",
       "  'title': 'porro aut necessitatibus eaque distinctio',\n",
       "  'completed': False},\n",
       " {'userId': 2,\n",
       "  'id': 35,\n",
       "  'title': 'repellendus veritatis molestias dicta incidunt',\n",
       "  'completed': True},\n",
       " {'userId': 2,\n",
       "  'id': 36,\n",
       "  'title': 'excepturi deleniti adipisci voluptatem et neque optio illum ad',\n",
       "  'completed': True},\n",
       " {'userId': 2, 'id': 37, 'title': 'sunt cum tempora', 'completed': False},\n",
       " {'userId': 2, 'id': 38, 'title': 'totam quia non', 'completed': False},\n",
       " {'userId': 2,\n",
       "  'id': 39,\n",
       "  'title': 'doloremque quibusdam asperiores libero corrupti illum qui omnis',\n",
       "  'completed': False},\n",
       " {'userId': 2,\n",
       "  'id': 40,\n",
       "  'title': 'totam atque quo nesciunt',\n",
       "  'completed': True},\n",
       " {'userId': 3,\n",
       "  'id': 41,\n",
       "  'title': 'aliquid amet impedit consequatur aspernatur placeat eaque fugiat suscipit',\n",
       "  'completed': False},\n",
       " {'userId': 3,\n",
       "  'id': 42,\n",
       "  'title': 'rerum perferendis error quia ut eveniet',\n",
       "  'completed': False},\n",
       " {'userId': 3,\n",
       "  'id': 43,\n",
       "  'title': 'tempore ut sint quis recusandae',\n",
       "  'completed': True},\n",
       " {'userId': 3,\n",
       "  'id': 44,\n",
       "  'title': 'cum debitis quis accusamus doloremque ipsa natus sapiente omnis',\n",
       "  'completed': True},\n",
       " {'userId': 3,\n",
       "  'id': 45,\n",
       "  'title': 'velit soluta adipisci molestias reiciendis harum',\n",
       "  'completed': False},\n",
       " {'userId': 3,\n",
       "  'id': 46,\n",
       "  'title': 'vel voluptatem repellat nihil placeat corporis',\n",
       "  'completed': False},\n",
       " {'userId': 3,\n",
       "  'id': 47,\n",
       "  'title': 'nam qui rerum fugiat accusamus',\n",
       "  'completed': False},\n",
       " {'userId': 3,\n",
       "  'id': 48,\n",
       "  'title': 'sit reprehenderit omnis quia',\n",
       "  'completed': False},\n",
       " {'userId': 3,\n",
       "  'id': 49,\n",
       "  'title': 'ut necessitatibus aut maiores debitis officia blanditiis velit et',\n",
       "  'completed': False},\n",
       " {'userId': 3,\n",
       "  'id': 50,\n",
       "  'title': 'cupiditate necessitatibus ullam aut quis dolor voluptate',\n",
       "  'completed': True},\n",
       " {'userId': 3,\n",
       "  'id': 51,\n",
       "  'title': 'distinctio exercitationem ab doloribus',\n",
       "  'completed': False},\n",
       " {'userId': 3,\n",
       "  'id': 52,\n",
       "  'title': 'nesciunt dolorum quis recusandae ad pariatur ratione',\n",
       "  'completed': False},\n",
       " {'userId': 3,\n",
       "  'id': 53,\n",
       "  'title': 'qui labore est occaecati recusandae aliquid quam',\n",
       "  'completed': False},\n",
       " {'userId': 3,\n",
       "  'id': 54,\n",
       "  'title': 'quis et est ut voluptate quam dolor',\n",
       "  'completed': True},\n",
       " {'userId': 3,\n",
       "  'id': 55,\n",
       "  'title': 'voluptatum omnis minima qui occaecati provident nulla voluptatem ratione',\n",
       "  'completed': True},\n",
       " {'userId': 3,\n",
       "  'id': 56,\n",
       "  'title': 'deleniti ea temporibus enim',\n",
       "  'completed': True},\n",
       " {'userId': 3,\n",
       "  'id': 57,\n",
       "  'title': 'pariatur et magnam ea doloribus similique voluptatem rerum quia',\n",
       "  'completed': False},\n",
       " {'userId': 3,\n",
       "  'id': 58,\n",
       "  'title': 'est dicta totam qui explicabo doloribus qui dignissimos',\n",
       "  'completed': False},\n",
       " {'userId': 3,\n",
       "  'id': 59,\n",
       "  'title': 'perspiciatis velit id laborum placeat iusto et aliquam odio',\n",
       "  'completed': False},\n",
       " {'userId': 3,\n",
       "  'id': 60,\n",
       "  'title': 'et sequi qui architecto ut adipisci',\n",
       "  'completed': True},\n",
       " {'userId': 4,\n",
       "  'id': 61,\n",
       "  'title': 'odit optio omnis qui sunt',\n",
       "  'completed': True},\n",
       " {'userId': 4,\n",
       "  'id': 62,\n",
       "  'title': 'et placeat et tempore aspernatur sint numquam',\n",
       "  'completed': False},\n",
       " {'userId': 4,\n",
       "  'id': 63,\n",
       "  'title': 'doloremque aut dolores quidem fuga qui nulla',\n",
       "  'completed': True},\n",
       " {'userId': 4,\n",
       "  'id': 64,\n",
       "  'title': 'voluptas consequatur qui ut quia magnam nemo esse',\n",
       "  'completed': False},\n",
       " {'userId': 4,\n",
       "  'id': 65,\n",
       "  'title': 'fugiat pariatur ratione ut asperiores necessitatibus magni',\n",
       "  'completed': False},\n",
       " {'userId': 4,\n",
       "  'id': 66,\n",
       "  'title': 'rerum eum molestias autem voluptatum sit optio',\n",
       "  'completed': False},\n",
       " {'userId': 4,\n",
       "  'id': 67,\n",
       "  'title': 'quia voluptatibus voluptatem quos similique maiores repellat',\n",
       "  'completed': False},\n",
       " {'userId': 4,\n",
       "  'id': 68,\n",
       "  'title': 'aut id perspiciatis voluptatem iusto',\n",
       "  'completed': False},\n",
       " {'userId': 4,\n",
       "  'id': 69,\n",
       "  'title': 'doloribus sint dolorum ab adipisci itaque dignissimos aliquam suscipit',\n",
       "  'completed': False},\n",
       " {'userId': 4,\n",
       "  'id': 70,\n",
       "  'title': 'ut sequi accusantium et mollitia delectus sunt',\n",
       "  'completed': False},\n",
       " {'userId': 4, 'id': 71, 'title': 'aut velit saepe ullam', 'completed': False},\n",
       " {'userId': 4,\n",
       "  'id': 72,\n",
       "  'title': 'praesentium facilis facere quis harum voluptatibus voluptatem eum',\n",
       "  'completed': False},\n",
       " {'userId': 4,\n",
       "  'id': 73,\n",
       "  'title': 'sint amet quia totam corporis qui exercitationem commodi',\n",
       "  'completed': True},\n",
       " {'userId': 4,\n",
       "  'id': 74,\n",
       "  'title': 'expedita tempore nobis eveniet laborum maiores',\n",
       "  'completed': False},\n",
       " {'userId': 4,\n",
       "  'id': 75,\n",
       "  'title': 'occaecati adipisci est possimus totam',\n",
       "  'completed': False},\n",
       " {'userId': 4, 'id': 76, 'title': 'sequi dolorem sed', 'completed': True},\n",
       " {'userId': 4,\n",
       "  'id': 77,\n",
       "  'title': 'maiores aut nesciunt delectus exercitationem vel assumenda eligendi at',\n",
       "  'completed': False},\n",
       " {'userId': 4,\n",
       "  'id': 78,\n",
       "  'title': 'reiciendis est magnam amet nemo iste recusandae impedit quaerat',\n",
       "  'completed': False},\n",
       " {'userId': 4, 'id': 79, 'title': 'eum ipsa maxime ut', 'completed': True},\n",
       " {'userId': 4,\n",
       "  'id': 80,\n",
       "  'title': 'tempore molestias dolores rerum sequi voluptates ipsum consequatur',\n",
       "  'completed': True},\n",
       " {'userId': 5, 'id': 81, 'title': 'suscipit qui totam', 'completed': True},\n",
       " {'userId': 5,\n",
       "  'id': 82,\n",
       "  'title': 'voluptates eum voluptas et dicta',\n",
       "  'completed': False},\n",
       " {'userId': 5,\n",
       "  'id': 83,\n",
       "  'title': 'quidem at rerum quis ex aut sit quam',\n",
       "  'completed': True},\n",
       " {'userId': 5,\n",
       "  'id': 84,\n",
       "  'title': 'sunt veritatis ut voluptate',\n",
       "  'completed': False},\n",
       " {'userId': 5, 'id': 85, 'title': 'et quia ad iste a', 'completed': True},\n",
       " {'userId': 5,\n",
       "  'id': 86,\n",
       "  'title': 'incidunt ut saepe autem',\n",
       "  'completed': True},\n",
       " {'userId': 5,\n",
       "  'id': 87,\n",
       "  'title': 'laudantium quae eligendi consequatur quia et vero autem',\n",
       "  'completed': True},\n",
       " {'userId': 5,\n",
       "  'id': 88,\n",
       "  'title': 'vitae aut excepturi laboriosam sint aliquam et et accusantium',\n",
       "  'completed': False},\n",
       " {'userId': 5, 'id': 89, 'title': 'sequi ut omnis et', 'completed': True},\n",
       " {'userId': 5,\n",
       "  'id': 90,\n",
       "  'title': 'molestiae nisi accusantium tenetur dolorem et',\n",
       "  'completed': True},\n",
       " {'userId': 5,\n",
       "  'id': 91,\n",
       "  'title': 'nulla quis consequatur saepe qui id expedita',\n",
       "  'completed': True},\n",
       " {'userId': 5, 'id': 92, 'title': 'in omnis laboriosam', 'completed': True},\n",
       " {'userId': 5,\n",
       "  'id': 93,\n",
       "  'title': 'odio iure consequatur molestiae quibusdam necessitatibus quia sint',\n",
       "  'completed': True},\n",
       " {'userId': 5,\n",
       "  'id': 94,\n",
       "  'title': 'facilis modi saepe mollitia',\n",
       "  'completed': False},\n",
       " {'userId': 5,\n",
       "  'id': 95,\n",
       "  'title': 'vel nihil et molestiae iusto assumenda nemo quo ut',\n",
       "  'completed': True},\n",
       " {'userId': 5,\n",
       "  'id': 96,\n",
       "  'title': 'nobis suscipit ducimus enim asperiores voluptas',\n",
       "  'completed': False},\n",
       " {'userId': 5,\n",
       "  'id': 97,\n",
       "  'title': 'dolorum laboriosam eos qui iure aliquam',\n",
       "  'completed': False},\n",
       " {'userId': 5,\n",
       "  'id': 98,\n",
       "  'title': 'debitis accusantium ut quo facilis nihil quis sapiente necessitatibus',\n",
       "  'completed': True},\n",
       " {'userId': 5,\n",
       "  'id': 99,\n",
       "  'title': 'neque voluptates ratione',\n",
       "  'completed': False},\n",
       " {'userId': 5,\n",
       "  'id': 100,\n",
       "  'title': 'excepturi a et neque qui expedita vel voluptate',\n",
       "  'completed': False},\n",
       " {'userId': 6,\n",
       "  'id': 101,\n",
       "  'title': 'explicabo enim cumque porro aperiam occaecati minima',\n",
       "  'completed': False},\n",
       " {'userId': 6, 'id': 102, 'title': 'sed ab consequatur', 'completed': False},\n",
       " {'userId': 6,\n",
       "  'id': 103,\n",
       "  'title': 'non sunt delectus illo nulla tenetur enim omnis',\n",
       "  'completed': False},\n",
       " {'userId': 6,\n",
       "  'id': 104,\n",
       "  'title': 'excepturi non laudantium quo',\n",
       "  'completed': False},\n",
       " {'userId': 6,\n",
       "  'id': 105,\n",
       "  'title': 'totam quia dolorem et illum repellat voluptas optio',\n",
       "  'completed': True},\n",
       " {'userId': 6,\n",
       "  'id': 106,\n",
       "  'title': 'ad illo quis voluptatem temporibus',\n",
       "  'completed': True},\n",
       " {'userId': 6,\n",
       "  'id': 107,\n",
       "  'title': 'praesentium facilis omnis laudantium fugit ad iusto nihil nesciunt',\n",
       "  'completed': False},\n",
       " {'userId': 6,\n",
       "  'id': 108,\n",
       "  'title': 'a eos eaque nihil et exercitationem incidunt delectus',\n",
       "  'completed': True},\n",
       " {'userId': 6,\n",
       "  'id': 109,\n",
       "  'title': 'autem temporibus harum quisquam in culpa',\n",
       "  'completed': True},\n",
       " {'userId': 6, 'id': 110, 'title': 'aut aut ea corporis', 'completed': True},\n",
       " {'userId': 6,\n",
       "  'id': 111,\n",
       "  'title': 'magni accusantium labore et id quis provident',\n",
       "  'completed': False},\n",
       " {'userId': 6,\n",
       "  'id': 112,\n",
       "  'title': 'consectetur impedit quisquam qui deserunt non rerum consequuntur eius',\n",
       "  'completed': False},\n",
       " {'userId': 6,\n",
       "  'id': 113,\n",
       "  'title': 'quia atque aliquam sunt impedit voluptatum rerum assumenda nisi',\n",
       "  'completed': False},\n",
       " {'userId': 6,\n",
       "  'id': 114,\n",
       "  'title': 'cupiditate quos possimus corporis quisquam exercitationem beatae',\n",
       "  'completed': False},\n",
       " {'userId': 6, 'id': 115, 'title': 'sed et ea eum', 'completed': False},\n",
       " {'userId': 6,\n",
       "  'id': 116,\n",
       "  'title': 'ipsa dolores vel facilis ut',\n",
       "  'completed': True},\n",
       " {'userId': 6,\n",
       "  'id': 117,\n",
       "  'title': 'sequi quae est et qui qui eveniet asperiores',\n",
       "  'completed': False},\n",
       " {'userId': 6,\n",
       "  'id': 118,\n",
       "  'title': 'quia modi consequatur vero fugiat',\n",
       "  'completed': False},\n",
       " {'userId': 6,\n",
       "  'id': 119,\n",
       "  'title': 'corporis ducimus ea perspiciatis iste',\n",
       "  'completed': False},\n",
       " {'userId': 6,\n",
       "  'id': 120,\n",
       "  'title': 'dolorem laboriosam vel voluptas et aliquam quasi',\n",
       "  'completed': False},\n",
       " {'userId': 7,\n",
       "  'id': 121,\n",
       "  'title': 'inventore aut nihil minima laudantium hic qui omnis',\n",
       "  'completed': True},\n",
       " {'userId': 7,\n",
       "  'id': 122,\n",
       "  'title': 'provident aut nobis culpa',\n",
       "  'completed': True},\n",
       " {'userId': 7,\n",
       "  'id': 123,\n",
       "  'title': 'esse et quis iste est earum aut impedit',\n",
       "  'completed': False},\n",
       " {'userId': 7, 'id': 124, 'title': 'qui consectetur id', 'completed': False},\n",
       " {'userId': 7,\n",
       "  'id': 125,\n",
       "  'title': 'aut quasi autem iste tempore illum possimus',\n",
       "  'completed': False},\n",
       " {'userId': 7,\n",
       "  'id': 126,\n",
       "  'title': 'ut asperiores perspiciatis veniam ipsum rerum saepe',\n",
       "  'completed': True},\n",
       " {'userId': 7,\n",
       "  'id': 127,\n",
       "  'title': 'voluptatem libero consectetur rerum ut',\n",
       "  'completed': True},\n",
       " {'userId': 7,\n",
       "  'id': 128,\n",
       "  'title': 'eius omnis est qui voluptatem autem',\n",
       "  'completed': False},\n",
       " {'userId': 7,\n",
       "  'id': 129,\n",
       "  'title': 'rerum culpa quis harum',\n",
       "  'completed': False},\n",
       " {'userId': 7,\n",
       "  'id': 130,\n",
       "  'title': 'nulla aliquid eveniet harum laborum libero alias ut unde',\n",
       "  'completed': True},\n",
       " {'userId': 7, 'id': 131, 'title': 'qui ea incidunt quis', 'completed': False},\n",
       " {'userId': 7,\n",
       "  'id': 132,\n",
       "  'title': 'qui molestiae voluptatibus velit iure harum quisquam',\n",
       "  'completed': True},\n",
       " {'userId': 7,\n",
       "  'id': 133,\n",
       "  'title': 'et labore eos enim rerum consequatur sunt',\n",
       "  'completed': True},\n",
       " {'userId': 7,\n",
       "  'id': 134,\n",
       "  'title': 'molestiae doloribus et laborum quod ea',\n",
       "  'completed': False},\n",
       " {'userId': 7,\n",
       "  'id': 135,\n",
       "  'title': 'facere ipsa nam eum voluptates reiciendis vero qui',\n",
       "  'completed': False},\n",
       " {'userId': 7,\n",
       "  'id': 136,\n",
       "  'title': 'asperiores illo tempora fuga sed ut quasi adipisci',\n",
       "  'completed': False},\n",
       " {'userId': 7, 'id': 137, 'title': 'qui sit non', 'completed': False},\n",
       " {'userId': 7,\n",
       "  'id': 138,\n",
       "  'title': 'placeat minima consequatur rem qui ut',\n",
       "  'completed': True},\n",
       " {'userId': 7,\n",
       "  'id': 139,\n",
       "  'title': 'consequatur doloribus id possimus voluptas a voluptatem',\n",
       "  'completed': False},\n",
       " {'userId': 7,\n",
       "  'id': 140,\n",
       "  'title': 'aut consectetur in blanditiis deserunt quia sed laboriosam',\n",
       "  'completed': True},\n",
       " {'userId': 8,\n",
       "  'id': 141,\n",
       "  'title': 'explicabo consectetur debitis voluptates quas quae culpa rerum non',\n",
       "  'completed': True},\n",
       " {'userId': 8,\n",
       "  'id': 142,\n",
       "  'title': 'maiores accusantium architecto necessitatibus reiciendis ea aut',\n",
       "  'completed': True},\n",
       " {'userId': 8,\n",
       "  'id': 143,\n",
       "  'title': 'eum non recusandae cupiditate animi',\n",
       "  'completed': False},\n",
       " {'userId': 8,\n",
       "  'id': 144,\n",
       "  'title': 'ut eum exercitationem sint',\n",
       "  'completed': False},\n",
       " {'userId': 8,\n",
       "  'id': 145,\n",
       "  'title': 'beatae qui ullam incidunt voluptatem non nisi aliquam',\n",
       "  'completed': False},\n",
       " {'userId': 8,\n",
       "  'id': 146,\n",
       "  'title': 'molestiae suscipit ratione nihil odio libero impedit vero totam',\n",
       "  'completed': True},\n",
       " {'userId': 8,\n",
       "  'id': 147,\n",
       "  'title': 'eum itaque quod reprehenderit et facilis dolor autem ut',\n",
       "  'completed': True},\n",
       " {'userId': 8,\n",
       "  'id': 148,\n",
       "  'title': 'esse quas et quo quasi exercitationem',\n",
       "  'completed': False},\n",
       " {'userId': 8,\n",
       "  'id': 149,\n",
       "  'title': 'animi voluptas quod perferendis est',\n",
       "  'completed': False},\n",
       " {'userId': 8,\n",
       "  'id': 150,\n",
       "  'title': 'eos amet tempore laudantium fugit a',\n",
       "  'completed': False},\n",
       " {'userId': 8,\n",
       "  'id': 151,\n",
       "  'title': 'accusamus adipisci dicta qui quo ea explicabo sed vero',\n",
       "  'completed': True},\n",
       " {'userId': 8,\n",
       "  'id': 152,\n",
       "  'title': 'odit eligendi recusandae doloremque cumque non',\n",
       "  'completed': False},\n",
       " {'userId': 8,\n",
       "  'id': 153,\n",
       "  'title': 'ea aperiam consequatur qui repellat eos',\n",
       "  'completed': False},\n",
       " {'userId': 8, 'id': 154, 'title': 'rerum non ex sapiente', 'completed': True},\n",
       " {'userId': 8,\n",
       "  'id': 155,\n",
       "  'title': 'voluptatem nobis consequatur et assumenda magnam',\n",
       "  'completed': True},\n",
       " {'userId': 8,\n",
       "  'id': 156,\n",
       "  'title': 'nam quia quia nulla repellat assumenda quibusdam sit nobis',\n",
       "  'completed': True},\n",
       " {'userId': 8,\n",
       "  'id': 157,\n",
       "  'title': 'dolorem veniam quisquam deserunt repellendus',\n",
       "  'completed': True},\n",
       " {'userId': 8,\n",
       "  'id': 158,\n",
       "  'title': 'debitis vitae delectus et harum accusamus aut deleniti a',\n",
       "  'completed': True},\n",
       " {'userId': 8,\n",
       "  'id': 159,\n",
       "  'title': 'debitis adipisci quibusdam aliquam sed dolore ea praesentium nobis',\n",
       "  'completed': True},\n",
       " {'userId': 8,\n",
       "  'id': 160,\n",
       "  'title': 'et praesentium aliquam est',\n",
       "  'completed': False},\n",
       " {'userId': 9,\n",
       "  'id': 161,\n",
       "  'title': 'ex hic consequuntur earum omnis alias ut occaecati culpa',\n",
       "  'completed': True},\n",
       " {'userId': 9,\n",
       "  'id': 162,\n",
       "  'title': 'omnis laboriosam molestias animi sunt dolore',\n",
       "  'completed': True},\n",
       " {'userId': 9,\n",
       "  'id': 163,\n",
       "  'title': 'natus corrupti maxime laudantium et voluptatem laboriosam odit',\n",
       "  'completed': False},\n",
       " {'userId': 9,\n",
       "  'id': 164,\n",
       "  'title': 'reprehenderit quos aut aut consequatur est sed',\n",
       "  'completed': False},\n",
       " {'userId': 9,\n",
       "  'id': 165,\n",
       "  'title': 'fugiat perferendis sed aut quidem',\n",
       "  'completed': False},\n",
       " {'userId': 9,\n",
       "  'id': 166,\n",
       "  'title': 'quos quo possimus suscipit minima ut',\n",
       "  'completed': False},\n",
       " {'userId': 9,\n",
       "  'id': 167,\n",
       "  'title': 'et quis minus quo a asperiores molestiae',\n",
       "  'completed': False},\n",
       " {'userId': 9,\n",
       "  'id': 168,\n",
       "  'title': 'recusandae quia qui sunt libero',\n",
       "  'completed': False},\n",
       " {'userId': 9,\n",
       "  'id': 169,\n",
       "  'title': 'ea odio perferendis officiis',\n",
       "  'completed': True},\n",
       " {'userId': 9,\n",
       "  'id': 170,\n",
       "  'title': 'quisquam aliquam quia doloribus aut',\n",
       "  'completed': False},\n",
       " {'userId': 9,\n",
       "  'id': 171,\n",
       "  'title': 'fugiat aut voluptatibus corrupti deleniti velit iste odio',\n",
       "  'completed': True},\n",
       " {'userId': 9,\n",
       "  'id': 172,\n",
       "  'title': 'et provident amet rerum consectetur et voluptatum',\n",
       "  'completed': False},\n",
       " {'userId': 9,\n",
       "  'id': 173,\n",
       "  'title': 'harum ad aperiam quis',\n",
       "  'completed': False},\n",
       " {'userId': 9, 'id': 174, 'title': 'similique aut quo', 'completed': False},\n",
       " {'userId': 9,\n",
       "  'id': 175,\n",
       "  'title': 'laudantium eius officia perferendis provident perspiciatis asperiores',\n",
       "  'completed': True},\n",
       " {'userId': 9,\n",
       "  'id': 176,\n",
       "  'title': 'magni soluta corrupti ut maiores rem quidem',\n",
       "  'completed': False},\n",
       " {'userId': 9,\n",
       "  'id': 177,\n",
       "  'title': 'et placeat temporibus voluptas est tempora quos quibusdam',\n",
       "  'completed': False},\n",
       " {'userId': 9,\n",
       "  'id': 178,\n",
       "  'title': 'nesciunt itaque commodi tempore',\n",
       "  'completed': True},\n",
       " {'userId': 9,\n",
       "  'id': 179,\n",
       "  'title': 'omnis consequuntur cupiditate impedit itaque ipsam quo',\n",
       "  'completed': True},\n",
       " {'userId': 9,\n",
       "  'id': 180,\n",
       "  'title': 'debitis nisi et dolorem repellat et',\n",
       "  'completed': True},\n",
       " {'userId': 10,\n",
       "  'id': 181,\n",
       "  'title': 'ut cupiditate sequi aliquam fuga maiores',\n",
       "  'completed': False},\n",
       " {'userId': 10,\n",
       "  'id': 182,\n",
       "  'title': 'inventore saepe cumque et aut illum enim',\n",
       "  'completed': True},\n",
       " {'userId': 10,\n",
       "  'id': 183,\n",
       "  'title': 'omnis nulla eum aliquam distinctio',\n",
       "  'completed': True},\n",
       " {'userId': 10,\n",
       "  'id': 184,\n",
       "  'title': 'molestias modi perferendis perspiciatis',\n",
       "  'completed': False},\n",
       " {'userId': 10,\n",
       "  'id': 185,\n",
       "  'title': 'voluptates dignissimos sed doloribus animi quaerat aut',\n",
       "  'completed': False},\n",
       " {'userId': 10,\n",
       "  'id': 186,\n",
       "  'title': 'explicabo odio est et',\n",
       "  'completed': False},\n",
       " {'userId': 10,\n",
       "  'id': 187,\n",
       "  'title': 'consequuntur animi possimus',\n",
       "  'completed': False},\n",
       " {'userId': 10, 'id': 188, 'title': 'vel non beatae est', 'completed': True},\n",
       " {'userId': 10,\n",
       "  'id': 189,\n",
       "  'title': 'culpa eius et voluptatem et',\n",
       "  'completed': True},\n",
       " {'userId': 10,\n",
       "  'id': 190,\n",
       "  'title': 'accusamus sint iusto et voluptatem exercitationem',\n",
       "  'completed': True},\n",
       " {'userId': 10,\n",
       "  'id': 191,\n",
       "  'title': 'temporibus atque distinctio omnis eius impedit tempore molestias pariatur',\n",
       "  'completed': True},\n",
       " {'userId': 10,\n",
       "  'id': 192,\n",
       "  'title': 'ut quas possimus exercitationem sint voluptates',\n",
       "  'completed': False},\n",
       " {'userId': 10,\n",
       "  'id': 193,\n",
       "  'title': 'rerum debitis voluptatem qui eveniet tempora distinctio a',\n",
       "  'completed': True},\n",
       " {'userId': 10,\n",
       "  'id': 194,\n",
       "  'title': 'sed ut vero sit molestiae',\n",
       "  'completed': False},\n",
       " {'userId': 10,\n",
       "  'id': 195,\n",
       "  'title': 'rerum ex veniam mollitia voluptatibus pariatur',\n",
       "  'completed': True},\n",
       " {'userId': 10,\n",
       "  'id': 196,\n",
       "  'title': 'consequuntur aut ut fugit similique',\n",
       "  'completed': True},\n",
       " {'userId': 10,\n",
       "  'id': 197,\n",
       "  'title': 'dignissimos quo nobis earum saepe',\n",
       "  'completed': True},\n",
       " {'userId': 10,\n",
       "  'id': 198,\n",
       "  'title': 'quis eius est sint explicabo',\n",
       "  'completed': True},\n",
       " {'userId': 10,\n",
       "  'id': 199,\n",
       "  'title': 'numquam repellendus a magnam',\n",
       "  'completed': True},\n",
       " {'userId': 10,\n",
       "  'id': 200,\n",
       "  'title': 'ipsam aperiam voluptates qui',\n",
       "  'completed': False}]"
      ]
     },
     "execution_count": 14,
     "metadata": {},
     "output_type": "execute_result"
    }
   ],
   "source": [
    "data # all user's whole data"
   ]
  },
  {
   "cell_type": "code",
   "execution_count": 16,
   "metadata": {},
   "outputs": [],
   "source": [
    "url=\"https://jsonplaceholder.typicode.com/todos/21\"\n",
    "response = requests.get(url)\n",
    "data = json.loads(response.text)"
   ]
  },
  {
   "cell_type": "code",
   "execution_count": 17,
   "metadata": {},
   "outputs": [
    {
     "data": {
      "text/plain": [
       "{'userId': 2,\n",
       " 'id': 21,\n",
       " 'title': 'suscipit repellat esse quibusdam voluptatem incidunt',\n",
       " 'completed': False}"
      ]
     },
     "execution_count": 17,
     "metadata": {},
     "output_type": "execute_result"
    }
   ],
   "source": [
    "data"
   ]
  },
  {
   "cell_type": "code",
   "execution_count": 18,
   "metadata": {},
   "outputs": [
    {
     "data": {
      "text/plain": [
       "2"
      ]
     },
     "execution_count": 18,
     "metadata": {},
     "output_type": "execute_result"
    }
   ],
   "source": [
    "data['userId']"
   ]
  },
  {
   "cell_type": "code",
   "execution_count": 19,
   "metadata": {},
   "outputs": [
    {
     "data": {
      "text/plain": [
       "21"
      ]
     },
     "execution_count": 19,
     "metadata": {},
     "output_type": "execute_result"
    }
   ],
   "source": [
    "data['id']"
   ]
  },
  {
   "cell_type": "markdown",
   "metadata": {},
   "source": [
    "## examples"
   ]
  },
  {
   "cell_type": "code",
   "execution_count": 20,
   "metadata": {},
   "outputs": [],
   "source": [
    "json_string = '{\"site\": \"ambig.one\", \"id\":\"2\"}' # json object"
   ]
  },
  {
   "cell_type": "code",
   "execution_count": 22,
   "metadata": {},
   "outputs": [
    {
     "data": {
      "text/plain": [
       "{'site': 'ambig.one', 'id': '2'}"
      ]
     },
     "execution_count": 22,
     "metadata": {},
     "output_type": "execute_result"
    }
   ],
   "source": [
    "parsed_json = json.loads(json_string)\n",
    "parsed_json # now it is a python dictionary"
   ]
  },
  {
   "cell_type": "markdown",
   "metadata": {},
   "source": [
    "Now use it like a python dictionary."
   ]
  },
  {
   "cell_type": "code",
   "execution_count": 23,
   "metadata": {},
   "outputs": [
    {
     "data": {
      "text/plain": [
       "'ambig.one'"
      ]
     },
     "execution_count": 23,
     "metadata": {},
     "output_type": "execute_result"
    }
   ],
   "source": [
    "parsed_json['site']"
   ]
  },
  {
   "cell_type": "markdown",
   "metadata": {},
   "source": [
    "Now let us do the other way around. convert  a python dictionary to a json object."
   ]
  },
  {
   "cell_type": "code",
   "execution_count": 28,
   "metadata": {},
   "outputs": [],
   "source": [
    "ambigone = {\n",
    "    'site': 'ambig.one',\n",
    "    'one address': 'https://ambig.one/2/',\n",
    "    'id': '2',\n",
    "    'github': 'mrambig',\n",
    "    'twitters': ['mrambig', 'mrambig1'],\n",
    "}"
   ]
  },
  {
   "cell_type": "code",
   "execution_count": 31,
   "metadata": {},
   "outputs": [],
   "source": [
    "json_object=json.dumps(ambigone) # converting python dictionary to a json object"
   ]
  },
  {
   "cell_type": "code",
   "execution_count": 32,
   "metadata": {},
   "outputs": [
    {
     "data": {
      "text/plain": [
       "'{\"site\": \"ambig.one\", \"one address\": \"https://ambig.one/2/\", \"id\": \"2\", \"github\": \"mrambig\", \"twitters\": [\"mrambig\", \"mrambig1\"]}'"
      ]
     },
     "execution_count": 32,
     "metadata": {},
     "output_type": "execute_result"
    }
   ],
   "source": [
    "json_object"
   ]
  },
  {
   "cell_type": "code",
   "execution_count": 51,
   "metadata": {},
   "outputs": [
    {
     "name": "stdout",
     "output_type": "stream",
     "text": [
      "{\"name\": \"ambig\", \"age\": 1008}\n",
      "{\"name\" = \"ambig\". \"age\" = 1008}\n",
      "{\n",
      "    \"name\": \"ambig\",\n",
      "    \"age\": 1008\n",
      "}\n",
      "{\n",
      "       \"age\": 1008,\n",
      "       \"name\": \"ambig\"\n",
      "}\n",
      "[\"apple\", \"orange\"]\n",
      "[\"movie\". \"music\"]\n",
      "\"howdie\"\n",
      "42\n",
      "31.76\n",
      "true\n",
      "false\n",
      "null\n"
     ]
    }
   ],
   "source": [
    "print(json.dumps({\"name\": \"ambig\", \"age\": 1008}))\n",
    "print(json.dumps({\"name\": \"ambig\", \"age\": 1008}, separators=(\". \", \" = \"))) # change the default separator\n",
    "print(json.dumps({\"name\": \"ambig\", \"age\": 1008}, indent=4))\n",
    "print(json.dumps({\"name\": \"ambig\", \"age\": 1008}, indent=7, sort_keys=True))\n",
    "print(json.dumps([\"apple\", \"orange\"]))\n",
    "print(json.dumps((\"movie\", \"music\"), separators=(\". \", \" = \"))) # change the default separator\n",
    "print(json.dumps(\"howdie\"))\n",
    "print(json.dumps(42))\n",
    "print(json.dumps(31.76))\n",
    "print(json.dumps(True))\n",
    "print(json.dumps(False))\n",
    "print(json.dumps(None))"
   ]
  },
  {
   "cell_type": "code",
   "execution_count": null,
   "metadata": {},
   "outputs": [],
   "source": []
  }
 ],
 "metadata": {
  "kernelspec": {
   "display_name": "Python 3",
   "language": "python",
   "name": "python3"
  },
  "language_info": {
   "codemirror_mode": {
    "name": "ipython",
    "version": 3
   },
   "file_extension": ".py",
   "mimetype": "text/x-python",
   "name": "python",
   "nbconvert_exporter": "python",
   "pygments_lexer": "ipython3",
   "version": "3.6.5"
  }
 },
 "nbformat": 4,
 "nbformat_minor": 2
}
