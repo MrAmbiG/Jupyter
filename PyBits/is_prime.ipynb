{
 "cells": [
  {
   "cell_type": "code",
   "execution_count": 28,
   "metadata": {},
   "outputs": [],
   "source": [
    "def is_prime(n):\n",
    "    if type(n) is not int:\n",
    "        return False\n",
    "    \n",
    "    if (n <= 1): \n",
    "        return False\n",
    "    \n",
    "    if list(map(int, str(n)))[-1] in (2,4,6,8,0):\n",
    "        return False\n",
    "  \n",
    "    # Check from 2 to n-1 \n",
    "    for i in range(2, n): \n",
    "        if (n % i == 0): \n",
    "            return False\n",
    "        \n",
    "    return True\n",
    "    \n",
    "    "
   ]
  },
  {
   "cell_type": "code",
   "execution_count": 59,
   "metadata": {},
   "outputs": [],
   "source": [
    "def is_prime(num):\n",
    "    '''\n",
    "    returns True if the given entitry is a prime number\n",
    "    else returns False. Results are a boolean of True or False\n",
    "    '''    \n",
    "    # verify if the given data is a number greater than 1\n",
    "    if (num <= 1): \n",
    "        return False\n",
    "    \n",
    "    if list(map(int, str(num)))[-1] in (2,4,6,8,0):\n",
    "        return False\n",
    "  \n",
    "    # Check from 2 to num-1 \n",
    "    for i in range(2, num): \n",
    "        if (num % i == 0): \n",
    "            return False\n",
    "        \n",
    "    return True\n",
    "    "
   ]
  },
  {
   "cell_type": "code",
   "execution_count": 60,
   "metadata": {},
   "outputs": [],
   "source": [
    "def is_prime(num):\n",
    "    '''\n",
    "    returns True if the given entitry is a prime number\n",
    "    else returns False. Results are a boolean of True or False\n",
    "    '''\n",
    "    try:\n",
    "        # verify if the given data is a number greater than 1\n",
    "        if (num <= 1): \n",
    "            return False\n",
    "\n",
    "        if list(map(int, str(num)))[-1] in (2,4,6,8,0):\n",
    "            return False\n",
    "\n",
    "        # Check from 2 to num-1 \n",
    "        for i in range(2, num): \n",
    "            if (num % i == 0): \n",
    "                return False\n",
    "\n",
    "        return True\n",
    "    except:\n",
    "        return False\n",
    "    "
   ]
  },
  {
   "cell_type": "code",
   "execution_count": 61,
   "metadata": {},
   "outputs": [],
   "source": [
    "def is_prime(num):\n",
    "    '''\n",
    "    returns True if the given entitry is a prime number\n",
    "    else returns False. Results are a boolean of True or False\n",
    "    '''\n",
    "    try:\n",
    "        # verify if the given data is a number greater than 1\n",
    "        if (num <= 1) and (list(map(int, str(num)))[-1] in (2,4,6,8,0)): \n",
    "            return False\n",
    "\n",
    "        # Check from 2 to num-1 \n",
    "        for i in range(2, num): \n",
    "            if (num % i == 0): \n",
    "                return False\n",
    "\n",
    "        return True\n",
    "    except:\n",
    "        return False"
   ]
  },
  {
   "cell_type": "code",
   "execution_count": 64,
   "metadata": {},
   "outputs": [
    {
     "data": {
      "text/plain": [
       "True"
      ]
     },
     "execution_count": 64,
     "metadata": {},
     "output_type": "execute_result"
    }
   ],
   "source": [
    "is_prime(3)"
   ]
  },
  {
   "cell_type": "code",
   "execution_count": null,
   "metadata": {},
   "outputs": [],
   "source": []
  }
 ],
 "metadata": {
  "kernelspec": {
   "display_name": "Python 3",
   "language": "python",
   "name": "python3"
  },
  "language_info": {
   "codemirror_mode": {
    "name": "ipython",
    "version": 3
   },
   "file_extension": ".py",
   "mimetype": "text/x-python",
   "name": "python",
   "nbconvert_exporter": "python",
   "pygments_lexer": "ipython3",
   "version": "3.6.6"
  }
 },
 "nbformat": 4,
 "nbformat_minor": 2
}
